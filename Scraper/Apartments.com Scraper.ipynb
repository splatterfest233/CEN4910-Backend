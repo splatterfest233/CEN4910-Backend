{
 "cells": [
  {
   "cell_type": "markdown",
   "id": "277249f7",
   "metadata": {},
   "source": [
    "- If the last <li> in the \"paging\" <nav> != \"Next\" we've reached the end of the search \n",
    "- Delete Marketing Blurbs   \n",
    "    \n",
    "    \n",
    "STEPS TO GET PROPERTY DATA:\n",
    "- OPEN PROPERTY\n",
    "    - \n",
    "SKIP PROP 26"
   ]
  },
  {
   "cell_type": "code",
   "execution_count": null,
   "id": "d49cf626",
   "metadata": {},
   "outputs": [],
   "source": [
    "from selenium import webdriver\n",
    "from selenium.webdriver.chrome.options import Options\n",
    "from selenium.webdriver.support.ui import WebDriverWait\n",
    "from selenium.webdriver.support import expected_conditions as EC\n",
    "from selenium.webdriver.common.by import By\n",
    "from selenium.common.exceptions import TimeoutException\n",
    "\n",
    "PATH = \"C:\\Program Files (x86)\\chromedriver.exe\"\n",
    "driver = webdriver.Chrome(PATH)\n",
    "driver.get(\"https://www.apartments.com/orlando-fl/\")"
   ]
  },
  {
   "cell_type": "code",
   "execution_count": null,
   "id": "af7b21df",
   "metadata": {
    "scrolled": false
   },
   "outputs": [],
   "source": [
    "import time\n",
    "\n",
    "#Clear out total properties list.\n",
    "totalProps = []\n",
    "delay = 10 # delay in seconds\n",
    "isLastPage = False\n",
    "currPage = 1\n",
    "\n",
    "while not isLastPage:\n",
    "    #Wait until properties are loaded\n",
    "    try:\n",
    "        time.sleep(2)\n",
    "        myElem = WebDriverWait(driver, delay).until(EC.presence_of_element_located((By.XPATH, '//*[@id=\"placardContainer\"]/ul[1]/li/article')))\n",
    "        print (currPage, \"Page is ready to be scraped\")\n",
    "    except TimeoutException:\n",
    "        print (\"Loading took too much time\")\n",
    "    \n",
    "    #Get properties on the current page\n",
    "    pageProps = driver.find_elements(By.XPATH, '//*[@id=\"placardContainer\"]/ul[1]/li/article')\n",
    "    \n",
    "    for i in range(1, len(pageProps)+1):\n",
    "        currentElement = f'//*[@id=\"placardContainer\"]/ul[1]/li[{i}]/article'\n",
    "        currentProperty = driver.find_element(By.XPATH, currentElement)\n",
    "        currentURL = currentProperty.get_attribute('data-url')\n",
    "        if currentURL is not None:\n",
    "            totalProps.append(currentURL)\n",
    "    \n",
    "    print(len(totalProps))\n",
    "\n",
    "    #Get pagination list\n",
    "    try:\n",
    "        pagination = driver.find_elements(By.XPATH, '//*[@id=\"paging\"]/ol/li')\n",
    "        lastPage = pagination[-1]\n",
    "        \n",
    "        if lastPage.text == 'Next':\n",
    "                myElem = WebDriverWait(driver, delay).until(EC.presence_of_element_located((By.XPATH, '//*[@id=\"paging\"]/ol/li')))\n",
    "                driver.find_elements(By.XPATH, '//*[@id=\"paging\"]/ol/li')[-1].click()\n",
    "                currPage += 1\n",
    "        else:\n",
    "            isLastPage = True\n",
    "    except Exception as e:\n",
    "        print(e, \"Error:\")"
   ]
  },
  {
   "cell_type": "code",
   "execution_count": 102,
   "id": "ad14dbc0",
   "metadata": {
    "scrolled": true
   },
   "outputs": [
    {
     "name": "stdout",
     "output_type": "stream",
     "text": [
      "https://maps.google.com/maps?ll=28.46481,-81.45025&z=16&hl=en-US&gl=US&mapclient=apiv3\n",
      "https://maps.google.com/maps?ll=28.5423,-81.28695&z=16&hl=en-US&gl=US&mapclient=apiv3\n",
      "https://maps.google.com/maps?ll=28.45456,-81.46157&z=16&hl=en-US&gl=US&mapclient=apiv3\n",
      "https://maps.google.com/maps?ll=28.45396,-81.28984&z=16&hl=en-US&gl=US&mapclient=apiv3\n",
      "https://maps.google.com/maps?ll=28.54723,-81.37612&z=16&hl=en-US&gl=US&mapclient=apiv3\n",
      "https://maps.google.com/maps?ll=28.56489,-81.3717&z=16&hl=en-US&gl=US&mapclient=apiv3\n",
      "https://maps.google.com/maps?ll=28.41587,-81.22106&z=16&hl=en-US&gl=US&mapclient=apiv3\n"
     ]
    },
    {
     "ename": "KeyboardInterrupt",
     "evalue": "",
     "output_type": "error",
     "traceback": [
      "\u001b[1;31m---------------------------------------------------------------------------\u001b[0m",
      "\u001b[1;31mKeyboardInterrupt\u001b[0m                         Traceback (most recent call last)",
      "\u001b[1;32m<ipython-input-102-872704ed7149>\u001b[0m in \u001b[0;36m<module>\u001b[1;34m\u001b[0m\n\u001b[0;32m      5\u001b[0m     \u001b[1;31m#Navigating to the Property's URL\u001b[0m\u001b[1;33m\u001b[0m\u001b[1;33m\u001b[0m\u001b[1;33m\u001b[0m\u001b[0m\n\u001b[0;32m      6\u001b[0m     \u001b[0mdriver\u001b[0m\u001b[1;33m.\u001b[0m\u001b[0mget\u001b[0m\u001b[1;33m(\u001b[0m\u001b[0mcurrProp\u001b[0m\u001b[1;33m)\u001b[0m\u001b[1;33m\u001b[0m\u001b[1;33m\u001b[0m\u001b[0m\n\u001b[1;32m----> 7\u001b[1;33m     \u001b[0mtime\u001b[0m\u001b[1;33m.\u001b[0m\u001b[0msleep\u001b[0m\u001b[1;33m(\u001b[0m\u001b[1;36m2\u001b[0m\u001b[1;33m)\u001b[0m\u001b[1;33m\u001b[0m\u001b[1;33m\u001b[0m\u001b[0m\n\u001b[0m\u001b[0;32m      8\u001b[0m \u001b[1;33m\u001b[0m\u001b[0m\n\u001b[0;32m      9\u001b[0m     \u001b[1;31m#Declaring a new dictionary to store the property's information:\u001b[0m\u001b[1;33m\u001b[0m\u001b[1;33m\u001b[0m\u001b[1;33m\u001b[0m\u001b[0m\n",
      "\u001b[1;31mKeyboardInterrupt\u001b[0m: "
     ]
    }
   ],
   "source": [
    "from selenium.webdriver.common.action_chains import ActionChains\n",
    "\n",
    "#Getting the data off each property\n",
    "for currProp in totalProps:\n",
    "    #Navigating to the Property's URL\n",
    "    driver.get(currProp)\n",
    "    time.sleep(2)\n",
    "    \n",
    "    #Declaring a new dictionary to store the property's information:\n",
    "    propInfo = {}\n",
    "    \n",
    "    #FIELDS SCRAPED:\n",
    "        #Property URL\n",
    "    propURL = currProp\n",
    "    \n",
    "        #Property Title\n",
    "    propName = driver.find_element(By.XPATH, '//*[@id=\"propertyName\"]').text\n",
    "    \n",
    "        #Property Address, City, State, and Postal Code\n",
    "    propAddress = driver.find_element(By.XPATH, '//*[@id=\"propertyAddressRow\"]/div/h2/span[1]').text\n",
    "    propCity = driver.find_element(By.XPATH, '//*[@id=\"propertyAddressRow\"]/div/h2/span[2]').text\n",
    "    propState = driver.find_element(By.XPATH, '//*[@id=\"propertyAddressRow\"]/div/h2/span[3]/span[1]').text\n",
    "    propZIP = driver.find_element(By.XPATH, '//*[@id=\"propertyAddressRow\"]/div/h2/span[3]/span[2]').text\n",
    "    propFullAddress = propAddress + ', ' + propCity + ', ' + propState + ' ' + propZIP\n",
    "    \n",
    "        #Property Coordinates\n",
    "    #Moving the browser to the Location section so the map gets generated.\n",
    "    location = driver.find_element(By.XPATH, '//*[@id=\"mapSection\"]/h2')\n",
    "    actions = ActionChains(driver)\n",
    "    actions.move_to_element(location).perform()\n",
    "    \n",
    "    #Sleep function is called to allow the website to fill out the information\n",
    "    time.sleep(3)\n",
    "    coorURL = driver.find_element(By.XPATH, '/html/body/div[1]/main/section[1]/div[1]/div[2]/div[1]/div[2]/section[6]/div[2]/div[1]/div/div[2]/div/div/div[14]/div/a').get_attribute('href')\n",
    "    print(coorURL)\n",
    "    "
   ]
  },
  {
   "cell_type": "markdown",
   "id": "fbceafcd",
   "metadata": {},
   "source": [
    "LOOP THROUGH THE TOTALPROPS ARRAY \n",
    "    ENTER THE URL\n",
    "        GET THE INFORMATION\n",
    "        PUT IT INTO THE DICTIONARY\n",
    "        EXPORT THAT DICTIONARY AS A JSON\n"
   ]
  }
 ],
 "metadata": {
  "kernelspec": {
   "display_name": "Python 3",
   "language": "python",
   "name": "python3"
  },
  "language_info": {
   "codemirror_mode": {
    "name": "ipython",
    "version": 3
   },
   "file_extension": ".py",
   "mimetype": "text/x-python",
   "name": "python",
   "nbconvert_exporter": "python",
   "pygments_lexer": "ipython3",
   "version": "3.8.8"
  }
 },
 "nbformat": 4,
 "nbformat_minor": 5
}
